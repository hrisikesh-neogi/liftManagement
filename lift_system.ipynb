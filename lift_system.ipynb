{
 "cells": [
  {
   "cell_type": "code",
   "execution_count": 14,
   "id": "161b23ab",
   "metadata": {},
   "outputs": [],
   "source": [
    "# def lift_start(floor_to_go):\n",
    "#     print(\"....lift is coming\")\n",
    "    \n",
    "#     base = 0\n",
    "#     no_of_lift = 4\n",
    "#     rope_length = 22*10\n",
    "    \n",
    "#     if \n",
    "    "
   ]
  },
  {
   "cell_type": "code",
   "execution_count": 17,
   "id": "4c35f601",
   "metadata": {},
   "outputs": [],
   "source": [
    "# lift_start(1)"
   ]
  },
  {
   "cell_type": "code",
   "execution_count": 1,
   "id": "fd6ba599",
   "metadata": {},
   "outputs": [],
   "source": [
    "from final import lift_assign"
   ]
  },
  {
   "cell_type": "code",
   "execution_count": 12,
   "id": "1aec8785",
   "metadata": {},
   "outputs": [],
   "source": [
    "l = lift_assign(21,1)"
   ]
  },
  {
   "cell_type": "code",
   "execution_count": 13,
   "id": "2519d9ba",
   "metadata": {},
   "outputs": [
    {
     "data": {
      "text/plain": [
       "True"
      ]
     },
     "execution_count": 13,
     "metadata": {},
     "output_type": "execute_result"
    }
   ],
   "source": [
    "l.validation()"
   ]
  },
  {
   "cell_type": "code",
   "execution_count": 14,
   "id": "eaf8f435",
   "metadata": {},
   "outputs": [
    {
     "name": "stdout",
     "output_type": "stream",
     "text": [
      "your lift is lift no - b\n",
      "lift is coming...\n",
      "lift is going down...\n",
      "lift is at 22\n",
      "lift is at 22 floor\n"
     ]
    }
   ],
   "source": [
    "l.get_lift()"
   ]
  },
  {
   "cell_type": "code",
   "execution_count": 3,
   "id": "ec011584",
   "metadata": {},
   "outputs": [
    {
     "name": "stdout",
     "output_type": "stream",
     "text": [
      "d\n"
     ]
    },
    {
     "data": {
      "text/html": [
       "<div>\n",
       "<style scoped>\n",
       "    .dataframe tbody tr th:only-of-type {\n",
       "        vertical-align: middle;\n",
       "    }\n",
       "\n",
       "    .dataframe tbody tr th {\n",
       "        vertical-align: top;\n",
       "    }\n",
       "\n",
       "    .dataframe thead th {\n",
       "        text-align: right;\n",
       "    }\n",
       "</style>\n",
       "<table border=\"1\" class=\"dataframe\">\n",
       "  <thead>\n",
       "    <tr style=\"text-align: right;\">\n",
       "      <th></th>\n",
       "      <th>a</th>\n",
       "      <th>b</th>\n",
       "      <th>c</th>\n",
       "      <th>d</th>\n",
       "    </tr>\n",
       "  </thead>\n",
       "  <tbody>\n",
       "    <tr>\n",
       "      <th>7</th>\n",
       "      <td>1</td>\n",
       "      <td>0</td>\n",
       "      <td>17</td>\n",
       "      <td>0</td>\n",
       "    </tr>\n",
       "  </tbody>\n",
       "</table>\n",
       "</div>"
      ],
      "text/plain": [
       "   a  b   c  d\n",
       "7  1  0  17  0"
      ]
     },
     "execution_count": 3,
     "metadata": {},
     "output_type": "execute_result"
    }
   ],
   "source": [
    "l.assign_lift()"
   ]
  },
  {
   "cell_type": "code",
   "execution_count": null,
   "id": "19da3166",
   "metadata": {},
   "outputs": [],
   "source": []
  },
  {
   "cell_type": "code",
   "execution_count": 3,
   "id": "a3637010",
   "metadata": {},
   "outputs": [
    {
     "name": "stdout",
     "output_type": "stream",
     "text": [
      "d\n"
     ]
    },
    {
     "data": {
      "text/html": [
       "<div>\n",
       "<style scoped>\n",
       "    .dataframe tbody tr th:only-of-type {\n",
       "        vertical-align: middle;\n",
       "    }\n",
       "\n",
       "    .dataframe tbody tr th {\n",
       "        vertical-align: top;\n",
       "    }\n",
       "\n",
       "    .dataframe thead th {\n",
       "        text-align: right;\n",
       "    }\n",
       "</style>\n",
       "<table border=\"1\" class=\"dataframe\">\n",
       "  <thead>\n",
       "    <tr style=\"text-align: right;\">\n",
       "      <th></th>\n",
       "      <th>a</th>\n",
       "      <th>b</th>\n",
       "      <th>c</th>\n",
       "      <th>d</th>\n",
       "    </tr>\n",
       "  </thead>\n",
       "  <tbody>\n",
       "    <tr>\n",
       "      <th>7</th>\n",
       "      <td>1</td>\n",
       "      <td>0</td>\n",
       "      <td>17</td>\n",
       "      <td>0</td>\n",
       "    </tr>\n",
       "  </tbody>\n",
       "</table>\n",
       "</div>"
      ],
      "text/plain": [
       "   a  b   c  d\n",
       "7  1  0  17  0"
      ]
     },
     "execution_count": 3,
     "metadata": {},
     "output_type": "execute_result"
    }
   ],
   "source": [
    "l.assign_lift()"
   ]
  },
  {
   "cell_type": "code",
   "execution_count": 4,
   "id": "17c5692e",
   "metadata": {},
   "outputs": [],
   "source": [
    "a = 'abab'"
   ]
  },
  {
   "cell_type": "code",
   "execution_count": 7,
   "id": "e053ff40",
   "metadata": {},
   "outputs": [],
   "source": [
    "a = '7'"
   ]
  },
  {
   "cell_type": "code",
   "execution_count": 8,
   "id": "461aa11d",
   "metadata": {},
   "outputs": [],
   "source": [
    "ll = [str(num) for num in range(22)]"
   ]
  },
  {
   "cell_type": "code",
   "execution_count": 9,
   "id": "ee7b311a",
   "metadata": {},
   "outputs": [
    {
     "name": "stdout",
     "output_type": "stream",
     "text": [
      "l\n"
     ]
    }
   ],
   "source": [
    "if a in ll:\n",
    "    print('l')"
   ]
  },
  {
   "cell_type": "code",
   "execution_count": null,
   "id": "30d211b9",
   "metadata": {},
   "outputs": [],
   "source": []
  }
 ],
 "metadata": {
  "kernelspec": {
   "display_name": "Python 3 (ipykernel)",
   "language": "python",
   "name": "python3"
  },
  "language_info": {
   "codemirror_mode": {
    "name": "ipython",
    "version": 3
   },
   "file_extension": ".py",
   "mimetype": "text/x-python",
   "name": "python",
   "nbconvert_exporter": "python",
   "pygments_lexer": "ipython3",
   "version": "3.9.7"
  }
 },
 "nbformat": 4,
 "nbformat_minor": 5
}
